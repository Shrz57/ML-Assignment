{
 "cells": [
  {
   "cell_type": "code",
   "execution_count": 1,
   "metadata": {},
   "outputs": [],
   "source": [
    "import matplotlib.pyplot as plt\n",
    "import pandas as pd\n",
    "import numpy as np\n"
   ]
  },
  {
   "cell_type": "code",
   "execution_count": 2,
   "metadata": {},
   "outputs": [],
   "source": [
    "dataset=pd.read_csv('AddedFeatures_campaign_sale.csv')\n"
   ]
  },
  {
   "cell_type": "code",
   "execution_count": 10,
   "metadata": {},
   "outputs": [
    {
     "data": {
      "text/html": [
       "<div>\n",
       "<style scoped>\n",
       "    .dataframe tbody tr th:only-of-type {\n",
       "        vertical-align: middle;\n",
       "    }\n",
       "\n",
       "    .dataframe tbody tr th {\n",
       "        vertical-align: top;\n",
       "    }\n",
       "\n",
       "    .dataframe thead th {\n",
       "        text-align: right;\n",
       "    }\n",
       "</style>\n",
       "<table border=\"1\" class=\"dataframe\">\n",
       "  <thead>\n",
       "    <tr style=\"text-align: right;\">\n",
       "      <th></th>\n",
       "      <th>Index</th>\n",
       "      <th>Campaign Period Sales</th>\n",
       "      <th>Buy</th>\n",
       "      <th>Historical Sales Volume</th>\n",
       "      <th>Number of Prior Year Transactions</th>\n",
       "      <th>Number of Transactions</th>\n",
       "      <th>Purchase Breadth</th>\n",
       "      <th>Customer_engagement_days</th>\n",
       "      <th>Days_since_last_transaction</th>\n",
       "      <th>Customer_engagement_length</th>\n",
       "      <th>...</th>\n",
       "      <th>Email Available</th>\n",
       "      <th>Desk</th>\n",
       "      <th>Executive Chair</th>\n",
       "      <th>Standard Chair</th>\n",
       "      <th>Monitor</th>\n",
       "      <th>Printer</th>\n",
       "      <th>Computer</th>\n",
       "      <th>Insurance</th>\n",
       "      <th>Toner</th>\n",
       "      <th>Office Supplies</th>\n",
       "    </tr>\n",
       "  </thead>\n",
       "  <tbody>\n",
       "    <tr>\n",
       "      <th>0</th>\n",
       "      <td>0</td>\n",
       "      <td>238.704762</td>\n",
       "      <td>1</td>\n",
       "      <td>146803.428571</td>\n",
       "      <td>15</td>\n",
       "      <td>15</td>\n",
       "      <td>2</td>\n",
       "      <td>19170</td>\n",
       "      <td>2242</td>\n",
       "      <td>Long-term</td>\n",
       "      <td>...</td>\n",
       "      <td>True</td>\n",
       "      <td>False</td>\n",
       "      <td>False</td>\n",
       "      <td>False</td>\n",
       "      <td>False</td>\n",
       "      <td>False</td>\n",
       "      <td>False</td>\n",
       "      <td>True</td>\n",
       "      <td>False</td>\n",
       "      <td>True</td>\n",
       "    </tr>\n",
       "    <tr>\n",
       "      <th>1</th>\n",
       "      <td>1</td>\n",
       "      <td>281.680000</td>\n",
       "      <td>1</td>\n",
       "      <td>439984.160000</td>\n",
       "      <td>22</td>\n",
       "      <td>22</td>\n",
       "      <td>1</td>\n",
       "      <td>14530</td>\n",
       "      <td>2368</td>\n",
       "      <td>Long-term</td>\n",
       "      <td>...</td>\n",
       "      <td>True</td>\n",
       "      <td>False</td>\n",
       "      <td>False</td>\n",
       "      <td>False</td>\n",
       "      <td>False</td>\n",
       "      <td>False</td>\n",
       "      <td>False</td>\n",
       "      <td>False</td>\n",
       "      <td>False</td>\n",
       "      <td>True</td>\n",
       "    </tr>\n",
       "    <tr>\n",
       "      <th>2</th>\n",
       "      <td>2</td>\n",
       "      <td>432.857143</td>\n",
       "      <td>1</td>\n",
       "      <td>970465.714286</td>\n",
       "      <td>19</td>\n",
       "      <td>19</td>\n",
       "      <td>1</td>\n",
       "      <td>21331</td>\n",
       "      <td>4028</td>\n",
       "      <td>Long-term</td>\n",
       "      <td>...</td>\n",
       "      <td>True</td>\n",
       "      <td>False</td>\n",
       "      <td>False</td>\n",
       "      <td>False</td>\n",
       "      <td>False</td>\n",
       "      <td>False</td>\n",
       "      <td>False</td>\n",
       "      <td>False</td>\n",
       "      <td>False</td>\n",
       "      <td>True</td>\n",
       "    </tr>\n",
       "    <tr>\n",
       "      <th>3</th>\n",
       "      <td>3</td>\n",
       "      <td>0.000000</td>\n",
       "      <td>0</td>\n",
       "      <td>230193.600000</td>\n",
       "      <td>17</td>\n",
       "      <td>17</td>\n",
       "      <td>1</td>\n",
       "      <td>13814</td>\n",
       "      <td>2417</td>\n",
       "      <td>Mid-term</td>\n",
       "      <td>...</td>\n",
       "      <td>True</td>\n",
       "      <td>False</td>\n",
       "      <td>False</td>\n",
       "      <td>False</td>\n",
       "      <td>False</td>\n",
       "      <td>False</td>\n",
       "      <td>False</td>\n",
       "      <td>False</td>\n",
       "      <td>False</td>\n",
       "      <td>True</td>\n",
       "    </tr>\n",
       "    <tr>\n",
       "      <th>4</th>\n",
       "      <td>4</td>\n",
       "      <td>308.419048</td>\n",
       "      <td>1</td>\n",
       "      <td>182584.076190</td>\n",
       "      <td>16</td>\n",
       "      <td>16</td>\n",
       "      <td>2</td>\n",
       "      <td>15292</td>\n",
       "      <td>3137</td>\n",
       "      <td>Long-term</td>\n",
       "      <td>...</td>\n",
       "      <td>False</td>\n",
       "      <td>False</td>\n",
       "      <td>False</td>\n",
       "      <td>False</td>\n",
       "      <td>False</td>\n",
       "      <td>False</td>\n",
       "      <td>False</td>\n",
       "      <td>False</td>\n",
       "      <td>True</td>\n",
       "      <td>True</td>\n",
       "    </tr>\n",
       "  </tbody>\n",
       "</table>\n",
       "<p>5 rows × 26 columns</p>\n",
       "</div>"
      ],
      "text/plain": [
       "   Index  Campaign Period Sales  Buy  Historical Sales Volume  \\\n",
       "0      0             238.704762    1            146803.428571   \n",
       "1      1             281.680000    1            439984.160000   \n",
       "2      2             432.857143    1            970465.714286   \n",
       "3      3               0.000000    0            230193.600000   \n",
       "4      4             308.419048    1            182584.076190   \n",
       "\n",
       "   Number of Prior Year Transactions  Number of Transactions  \\\n",
       "0                                 15                      15   \n",
       "1                                 22                      22   \n",
       "2                                 19                      19   \n",
       "3                                 17                      17   \n",
       "4                                 16                      16   \n",
       "\n",
       "   Purchase Breadth  Customer_engagement_days  Days_since_last_transaction  \\\n",
       "0                 2                     19170                         2242   \n",
       "1                 1                     14530                         2368   \n",
       "2                 1                     21331                         4028   \n",
       "3                 1                     13814                         2417   \n",
       "4                 2                     15292                         3137   \n",
       "\n",
       "  Customer_engagement_length  ... Email Available   Desk Executive Chair  \\\n",
       "0                  Long-term  ...            True  False           False   \n",
       "1                  Long-term  ...            True  False           False   \n",
       "2                  Long-term  ...            True  False           False   \n",
       "3                   Mid-term  ...            True  False           False   \n",
       "4                  Long-term  ...           False  False           False   \n",
       "\n",
       "  Standard Chair Monitor  Printer  Computer  Insurance  Toner  Office Supplies  \n",
       "0          False   False    False     False       True  False             True  \n",
       "1          False   False    False     False      False  False             True  \n",
       "2          False   False    False     False      False  False             True  \n",
       "3          False   False    False     False      False  False             True  \n",
       "4          False   False    False     False      False   True             True  \n",
       "\n",
       "[5 rows x 26 columns]"
      ]
     },
     "execution_count": 10,
     "metadata": {},
     "output_type": "execute_result"
    }
   ],
   "source": [
    "dataset.head()\n"
   ]
  },
  {
   "cell_type": "code",
   "execution_count": 11,
   "metadata": {},
   "outputs": [
    {
     "data": {
      "text/html": [
       "<div>\n",
       "<style scoped>\n",
       "    .dataframe tbody tr th:only-of-type {\n",
       "        vertical-align: middle;\n",
       "    }\n",
       "\n",
       "    .dataframe tbody tr th {\n",
       "        vertical-align: top;\n",
       "    }\n",
       "\n",
       "    .dataframe thead th {\n",
       "        text-align: right;\n",
       "    }\n",
       "</style>\n",
       "<table border=\"1\" class=\"dataframe\">\n",
       "  <thead>\n",
       "    <tr style=\"text-align: right;\">\n",
       "      <th></th>\n",
       "      <th>Index</th>\n",
       "      <th>Campaign Period Sales</th>\n",
       "      <th>Buy</th>\n",
       "      <th>Historical Sales Volume</th>\n",
       "      <th>Number of Prior Year Transactions</th>\n",
       "      <th>Number of Transactions</th>\n",
       "      <th>Purchase Breadth</th>\n",
       "      <th>Customer_engagement_days</th>\n",
       "      <th>Days_since_last_transaction</th>\n",
       "      <th>Customer_engagement_length</th>\n",
       "      <th>...</th>\n",
       "      <th>Email Available</th>\n",
       "      <th>Desk</th>\n",
       "      <th>Executive Chair</th>\n",
       "      <th>Standard Chair</th>\n",
       "      <th>Monitor</th>\n",
       "      <th>Printer</th>\n",
       "      <th>Computer</th>\n",
       "      <th>Insurance</th>\n",
       "      <th>Toner</th>\n",
       "      <th>Office Supplies</th>\n",
       "    </tr>\n",
       "  </thead>\n",
       "  <tbody>\n",
       "    <tr>\n",
       "      <th>12127</th>\n",
       "      <td>12127</td>\n",
       "      <td>0.0</td>\n",
       "      <td>0</td>\n",
       "      <td>32328.400000</td>\n",
       "      <td>6</td>\n",
       "      <td>6</td>\n",
       "      <td>1</td>\n",
       "      <td>8778</td>\n",
       "      <td>2624</td>\n",
       "      <td>Mid-term</td>\n",
       "      <td>...</td>\n",
       "      <td>True</td>\n",
       "      <td>False</td>\n",
       "      <td>False</td>\n",
       "      <td>False</td>\n",
       "      <td>False</td>\n",
       "      <td>False</td>\n",
       "      <td>False</td>\n",
       "      <td>False</td>\n",
       "      <td>False</td>\n",
       "      <td>True</td>\n",
       "    </tr>\n",
       "    <tr>\n",
       "      <th>12128</th>\n",
       "      <td>12128</td>\n",
       "      <td>0.0</td>\n",
       "      <td>0</td>\n",
       "      <td>920240.533333</td>\n",
       "      <td>26</td>\n",
       "      <td>26</td>\n",
       "      <td>0</td>\n",
       "      <td>8717</td>\n",
       "      <td>3515</td>\n",
       "      <td>Mid-term</td>\n",
       "      <td>...</td>\n",
       "      <td>False</td>\n",
       "      <td>False</td>\n",
       "      <td>False</td>\n",
       "      <td>False</td>\n",
       "      <td>False</td>\n",
       "      <td>False</td>\n",
       "      <td>False</td>\n",
       "      <td>False</td>\n",
       "      <td>False</td>\n",
       "      <td>False</td>\n",
       "    </tr>\n",
       "    <tr>\n",
       "      <th>12129</th>\n",
       "      <td>12129</td>\n",
       "      <td>0.0</td>\n",
       "      <td>0</td>\n",
       "      <td>71762.880000</td>\n",
       "      <td>21</td>\n",
       "      <td>21</td>\n",
       "      <td>2</td>\n",
       "      <td>8608</td>\n",
       "      <td>2384</td>\n",
       "      <td>Mid-term</td>\n",
       "      <td>...</td>\n",
       "      <td>True</td>\n",
       "      <td>False</td>\n",
       "      <td>False</td>\n",
       "      <td>False</td>\n",
       "      <td>False</td>\n",
       "      <td>False</td>\n",
       "      <td>False</td>\n",
       "      <td>True</td>\n",
       "      <td>False</td>\n",
       "      <td>True</td>\n",
       "    </tr>\n",
       "    <tr>\n",
       "      <th>12130</th>\n",
       "      <td>12130</td>\n",
       "      <td>0.0</td>\n",
       "      <td>0</td>\n",
       "      <td>265963.062857</td>\n",
       "      <td>18</td>\n",
       "      <td>18</td>\n",
       "      <td>1</td>\n",
       "      <td>10725</td>\n",
       "      <td>2107</td>\n",
       "      <td>Mid-term</td>\n",
       "      <td>...</td>\n",
       "      <td>True</td>\n",
       "      <td>False</td>\n",
       "      <td>False</td>\n",
       "      <td>False</td>\n",
       "      <td>False</td>\n",
       "      <td>False</td>\n",
       "      <td>False</td>\n",
       "      <td>False</td>\n",
       "      <td>False</td>\n",
       "      <td>True</td>\n",
       "    </tr>\n",
       "    <tr>\n",
       "      <th>12131</th>\n",
       "      <td>12131</td>\n",
       "      <td>0.0</td>\n",
       "      <td>0</td>\n",
       "      <td>702149.066667</td>\n",
       "      <td>20</td>\n",
       "      <td>20</td>\n",
       "      <td>2</td>\n",
       "      <td>8503</td>\n",
       "      <td>3440</td>\n",
       "      <td>Mid-term</td>\n",
       "      <td>...</td>\n",
       "      <td>True</td>\n",
       "      <td>False</td>\n",
       "      <td>False</td>\n",
       "      <td>False</td>\n",
       "      <td>False</td>\n",
       "      <td>True</td>\n",
       "      <td>False</td>\n",
       "      <td>False</td>\n",
       "      <td>False</td>\n",
       "      <td>True</td>\n",
       "    </tr>\n",
       "  </tbody>\n",
       "</table>\n",
       "<p>5 rows × 26 columns</p>\n",
       "</div>"
      ],
      "text/plain": [
       "       Index  Campaign Period Sales  Buy  Historical Sales Volume  \\\n",
       "12127  12127                    0.0    0             32328.400000   \n",
       "12128  12128                    0.0    0            920240.533333   \n",
       "12129  12129                    0.0    0             71762.880000   \n",
       "12130  12130                    0.0    0            265963.062857   \n",
       "12131  12131                    0.0    0            702149.066667   \n",
       "\n",
       "       Number of Prior Year Transactions  Number of Transactions  \\\n",
       "12127                                  6                       6   \n",
       "12128                                 26                      26   \n",
       "12129                                 21                      21   \n",
       "12130                                 18                      18   \n",
       "12131                                 20                      20   \n",
       "\n",
       "       Purchase Breadth  Customer_engagement_days  \\\n",
       "12127                 1                      8778   \n",
       "12128                 0                      8717   \n",
       "12129                 2                      8608   \n",
       "12130                 1                     10725   \n",
       "12131                 2                      8503   \n",
       "\n",
       "       Days_since_last_transaction Customer_engagement_length  ...  \\\n",
       "12127                         2624                   Mid-term  ...   \n",
       "12128                         3515                   Mid-term  ...   \n",
       "12129                         2384                   Mid-term  ...   \n",
       "12130                         2107                   Mid-term  ...   \n",
       "12131                         3440                   Mid-term  ...   \n",
       "\n",
       "      Email Available   Desk Executive Chair Standard Chair Monitor  Printer  \\\n",
       "12127            True  False           False          False   False    False   \n",
       "12128           False  False           False          False   False    False   \n",
       "12129            True  False           False          False   False    False   \n",
       "12130            True  False           False          False   False    False   \n",
       "12131            True  False           False          False   False     True   \n",
       "\n",
       "       Computer  Insurance  Toner  Office Supplies  \n",
       "12127     False      False  False             True  \n",
       "12128     False      False  False            False  \n",
       "12129     False       True  False             True  \n",
       "12130     False      False  False             True  \n",
       "12131     False      False  False             True  \n",
       "\n",
       "[5 rows x 26 columns]"
      ]
     },
     "execution_count": 11,
     "metadata": {},
     "output_type": "execute_result"
    }
   ],
   "source": [
    "dataset.tail()\n"
   ]
  },
  {
   "cell_type": "code",
   "execution_count": 5,
   "metadata": {},
   "outputs": [
    {
     "data": {
      "text/html": [
       "<div>\n",
       "<style scoped>\n",
       "    .dataframe tbody tr th:only-of-type {\n",
       "        vertical-align: middle;\n",
       "    }\n",
       "\n",
       "    .dataframe tbody tr th {\n",
       "        vertical-align: top;\n",
       "    }\n",
       "\n",
       "    .dataframe thead th {\n",
       "        text-align: right;\n",
       "    }\n",
       "</style>\n",
       "<table border=\"1\" class=\"dataframe\">\n",
       "  <thead>\n",
       "    <tr style=\"text-align: right;\">\n",
       "      <th></th>\n",
       "      <th>Index</th>\n",
       "      <th>Campaign Period Sales</th>\n",
       "      <th>Buy</th>\n",
       "      <th>Historical Sales Volume</th>\n",
       "      <th>Number of Prior Year Transactions</th>\n",
       "      <th>Number of Transactions</th>\n",
       "      <th>Purchase Breadth</th>\n",
       "      <th>Customer_engagement_days</th>\n",
       "      <th>Days_since_last_transaction</th>\n",
       "    </tr>\n",
       "  </thead>\n",
       "  <tbody>\n",
       "    <tr>\n",
       "      <th>count</th>\n",
       "      <td>12132.000000</td>\n",
       "      <td>12132.000000</td>\n",
       "      <td>12132.000000</td>\n",
       "      <td>1.213200e+04</td>\n",
       "      <td>12132.000000</td>\n",
       "      <td>12132.000000</td>\n",
       "      <td>12132.000000</td>\n",
       "      <td>12132.000000</td>\n",
       "      <td>12132.000000</td>\n",
       "    </tr>\n",
       "    <tr>\n",
       "      <th>mean</th>\n",
       "      <td>6065.500000</td>\n",
       "      <td>107.933384</td>\n",
       "      <td>0.270936</td>\n",
       "      <td>5.600768e+05</td>\n",
       "      <td>16.512117</td>\n",
       "      <td>16.500412</td>\n",
       "      <td>1.255358</td>\n",
       "      <td>10297.605589</td>\n",
       "      <td>3009.300363</td>\n",
       "    </tr>\n",
       "    <tr>\n",
       "      <th>std</th>\n",
       "      <td>3502.351067</td>\n",
       "      <td>267.200455</td>\n",
       "      <td>0.444462</td>\n",
       "      <td>7.039575e+05</td>\n",
       "      <td>6.034094</td>\n",
       "      <td>6.040510</td>\n",
       "      <td>0.751494</td>\n",
       "      <td>3969.253480</td>\n",
       "      <td>794.941745</td>\n",
       "    </tr>\n",
       "    <tr>\n",
       "      <th>min</th>\n",
       "      <td>0.000000</td>\n",
       "      <td>0.000000</td>\n",
       "      <td>0.000000</td>\n",
       "      <td>0.000000e+00</td>\n",
       "      <td>1.000000</td>\n",
       "      <td>1.000000</td>\n",
       "      <td>0.000000</td>\n",
       "      <td>1033.000000</td>\n",
       "      <td>934.000000</td>\n",
       "    </tr>\n",
       "    <tr>\n",
       "      <th>25%</th>\n",
       "      <td>3032.750000</td>\n",
       "      <td>0.000000</td>\n",
       "      <td>0.000000</td>\n",
       "      <td>1.792572e+05</td>\n",
       "      <td>13.000000</td>\n",
       "      <td>13.000000</td>\n",
       "      <td>1.000000</td>\n",
       "      <td>8670.000000</td>\n",
       "      <td>2431.000000</td>\n",
       "    </tr>\n",
       "    <tr>\n",
       "      <th>50%</th>\n",
       "      <td>6065.500000</td>\n",
       "      <td>0.000000</td>\n",
       "      <td>0.000000</td>\n",
       "      <td>3.678030e+05</td>\n",
       "      <td>18.000000</td>\n",
       "      <td>18.000000</td>\n",
       "      <td>1.000000</td>\n",
       "      <td>10055.000000</td>\n",
       "      <td>2925.000000</td>\n",
       "    </tr>\n",
       "    <tr>\n",
       "      <th>75%</th>\n",
       "      <td>9098.250000</td>\n",
       "      <td>137.278000</td>\n",
       "      <td>1.000000</td>\n",
       "      <td>6.921952e+05</td>\n",
       "      <td>20.000000</td>\n",
       "      <td>20.000000</td>\n",
       "      <td>1.000000</td>\n",
       "      <td>12323.000000</td>\n",
       "      <td>3436.000000</td>\n",
       "    </tr>\n",
       "    <tr>\n",
       "      <th>max</th>\n",
       "      <td>12131.000000</td>\n",
       "      <td>5927.306667</td>\n",
       "      <td>1.000000</td>\n",
       "      <td>1.648348e+07</td>\n",
       "      <td>64.000000</td>\n",
       "      <td>64.000000</td>\n",
       "      <td>9.000000</td>\n",
       "      <td>34770.000000</td>\n",
       "      <td>6827.000000</td>\n",
       "    </tr>\n",
       "  </tbody>\n",
       "</table>\n",
       "</div>"
      ],
      "text/plain": [
       "              Index  Campaign Period Sales           Buy  \\\n",
       "count  12132.000000           12132.000000  12132.000000   \n",
       "mean    6065.500000             107.933384      0.270936   \n",
       "std     3502.351067             267.200455      0.444462   \n",
       "min        0.000000               0.000000      0.000000   \n",
       "25%     3032.750000               0.000000      0.000000   \n",
       "50%     6065.500000               0.000000      0.000000   \n",
       "75%     9098.250000             137.278000      1.000000   \n",
       "max    12131.000000            5927.306667      1.000000   \n",
       "\n",
       "       Historical Sales Volume  Number of Prior Year Transactions  \\\n",
       "count             1.213200e+04                       12132.000000   \n",
       "mean              5.600768e+05                          16.512117   \n",
       "std               7.039575e+05                           6.034094   \n",
       "min               0.000000e+00                           1.000000   \n",
       "25%               1.792572e+05                          13.000000   \n",
       "50%               3.678030e+05                          18.000000   \n",
       "75%               6.921952e+05                          20.000000   \n",
       "max               1.648348e+07                          64.000000   \n",
       "\n",
       "       Number of Transactions  Purchase Breadth  Customer_engagement_days  \\\n",
       "count            12132.000000      12132.000000              12132.000000   \n",
       "mean                16.500412          1.255358              10297.605589   \n",
       "std                  6.040510          0.751494               3969.253480   \n",
       "min                  1.000000          0.000000               1033.000000   \n",
       "25%                 13.000000          1.000000               8670.000000   \n",
       "50%                 18.000000          1.000000              10055.000000   \n",
       "75%                 20.000000          1.000000              12323.000000   \n",
       "max                 64.000000          9.000000              34770.000000   \n",
       "\n",
       "       Days_since_last_transaction  \n",
       "count                 12132.000000  \n",
       "mean                   3009.300363  \n",
       "std                     794.941745  \n",
       "min                     934.000000  \n",
       "25%                    2431.000000  \n",
       "50%                    2925.000000  \n",
       "75%                    3436.000000  \n",
       "max                    6827.000000  "
      ]
     },
     "execution_count": 5,
     "metadata": {},
     "output_type": "execute_result"
    }
   ],
   "source": [
    "dataset.describe()"
   ]
  },
  {
   "cell_type": "code",
   "execution_count": 6,
   "metadata": {},
   "outputs": [
    {
     "data": {
      "text/plain": [
       "(12132, 26)"
      ]
     },
     "execution_count": 6,
     "metadata": {},
     "output_type": "execute_result"
    }
   ],
   "source": [
    "dataset.shape\n"
   ]
  },
  {
   "cell_type": "code",
   "execution_count": 7,
   "metadata": {},
   "outputs": [
    {
     "data": {
      "text/plain": [
       "Index(['Index', 'Campaign Period Sales', 'Buy', 'Historical Sales Volume',\n",
       "       'Number of Prior Year Transactions', 'Number of Transactions',\n",
       "       'Purchase Breadth', 'Customer_engagement_days',\n",
       "       'Days_since_last_transaction', 'Customer_engagement_length',\n",
       "       'Language_group', 'Repurchase Method', 'Last Transaction Channel',\n",
       "       'Number of Employees', 'Service Level', 'Do No Disturb',\n",
       "       'Email Available', 'Desk', 'Executive Chair', 'Standard Chair',\n",
       "       'Monitor', 'Printer', 'Computer', 'Insurance', 'Toner',\n",
       "       'Office Supplies'],\n",
       "      dtype='object')"
      ]
     },
     "execution_count": 7,
     "metadata": {},
     "output_type": "execute_result"
    }
   ],
   "source": [
    "dataset.columns\n"
   ]
  },
  {
   "cell_type": "code",
   "execution_count": 8,
   "metadata": {},
   "outputs": [
    {
     "data": {
      "text/plain": [
       "RangeIndex(start=0, stop=12132, step=1)"
      ]
     },
     "execution_count": 8,
     "metadata": {},
     "output_type": "execute_result"
    }
   ],
   "source": [
    "dataset.index"
   ]
  },
  {
   "cell_type": "code",
   "execution_count": 14,
   "metadata": {},
   "outputs": [
    {
     "data": {
      "text/plain": [
       "Index                                0\n",
       "Campaign Period Sales                0\n",
       "Buy                                  0\n",
       "Historical Sales Volume              0\n",
       "Number of Prior Year Transactions    0\n",
       "Number of Transactions               0\n",
       "Purchase Breadth                     0\n",
       "Customer_engagement_days             0\n",
       "Days_since_last_transaction          0\n",
       "Customer_engagement_length           0\n",
       "Language_group                       0\n",
       "Repurchase Method                    0\n",
       "Last Transaction Channel             0\n",
       "Number of Employees                  0\n",
       "Service Level                        0\n",
       "Do No Disturb                        0\n",
       "Email Available                      0\n",
       "Desk                                 0\n",
       "Executive Chair                      0\n",
       "Standard Chair                       0\n",
       "Monitor                              0\n",
       "Printer                              0\n",
       "Computer                             0\n",
       "Insurance                            0\n",
       "Toner                                0\n",
       "Office Supplies                      0\n",
       "dtype: int64"
      ]
     },
     "execution_count": 14,
     "metadata": {},
     "output_type": "execute_result"
    }
   ],
   "source": [
    "dataset.isnull().sum()"
   ]
  },
  {
   "cell_type": "code",
   "execution_count": 25,
   "metadata": {},
   "outputs": [
    {
     "data": {
      "text/html": [
       "<div>\n",
       "<style scoped>\n",
       "    .dataframe tbody tr th:only-of-type {\n",
       "        vertical-align: middle;\n",
       "    }\n",
       "\n",
       "    .dataframe tbody tr th {\n",
       "        vertical-align: top;\n",
       "    }\n",
       "\n",
       "    .dataframe thead th {\n",
       "        text-align: right;\n",
       "    }\n",
       "</style>\n",
       "<table border=\"1\" class=\"dataframe\">\n",
       "  <thead>\n",
       "    <tr style=\"text-align: right;\">\n",
       "      <th></th>\n",
       "      <th>Customer_engagement_length</th>\n",
       "      <th>Language_group</th>\n",
       "      <th>Repurchase Method</th>\n",
       "      <th>Last Transaction Channel</th>\n",
       "      <th>Number of Employees</th>\n",
       "      <th>Service Level</th>\n",
       "    </tr>\n",
       "  </thead>\n",
       "  <tbody>\n",
       "    <tr>\n",
       "      <th>count</th>\n",
       "      <td>12132</td>\n",
       "      <td>12132</td>\n",
       "      <td>12132</td>\n",
       "      <td>12132</td>\n",
       "      <td>12132</td>\n",
       "      <td>12132</td>\n",
       "    </tr>\n",
       "    <tr>\n",
       "      <th>unique</th>\n",
       "      <td>3</td>\n",
       "      <td>4</td>\n",
       "      <td>2</td>\n",
       "      <td>8</td>\n",
       "      <td>6</td>\n",
       "      <td>2</td>\n",
       "    </tr>\n",
       "    <tr>\n",
       "      <th>top</th>\n",
       "      <td>Mid-term</td>\n",
       "      <td>English</td>\n",
       "      <td>NOTICE</td>\n",
       "      <td>MAIL</td>\n",
       "      <td>6-10</td>\n",
       "      <td>Premier</td>\n",
       "    </tr>\n",
       "    <tr>\n",
       "      <th>freq</th>\n",
       "      <td>8577</td>\n",
       "      <td>10978</td>\n",
       "      <td>9108</td>\n",
       "      <td>6255</td>\n",
       "      <td>5111</td>\n",
       "      <td>6985</td>\n",
       "    </tr>\n",
       "  </tbody>\n",
       "</table>\n",
       "</div>"
      ],
      "text/plain": [
       "       Customer_engagement_length Language_group Repurchase Method  \\\n",
       "count                       12132          12132             12132   \n",
       "unique                          3              4                 2   \n",
       "top                      Mid-term        English            NOTICE   \n",
       "freq                         8577          10978              9108   \n",
       "\n",
       "       Last Transaction Channel Number of Employees Service Level  \n",
       "count                     12132               12132         12132  \n",
       "unique                        8                   6             2  \n",
       "top                        MAIL                6-10       Premier  \n",
       "freq                       6255                5111          6985  "
      ]
     },
     "execution_count": 25,
     "metadata": {},
     "output_type": "execute_result"
    }
   ],
   "source": [
    "dataset.describe(include=['O'])"
   ]
  },
  {
   "cell_type": "code",
   "execution_count": 39,
   "metadata": {},
   "outputs": [
    {
     "data": {
      "image/png": "[encoded data removed]",
      "text/plain": [
       "<Figure size 216x216 with 1 Axes>"
      ]
     },
     "metadata": {
      "needs_background": "light"
     },
     "output_type": "display_data"
    },
    {
     "data": {
      "image/png": "[encoded data removed]",
      "text/plain": [
       "<Figure size 432x288 with 1 Axes>"
      ]
     },
     "metadata": {
      "needs_background": "light"
     },
     "output_type": "display_data"
    },
    {
     "data": {
      "image/png": "[encoded data removed]",
      "text/plain": [
       "<Figure size 432x288 with 1 Axes>"
      ]
     },
     "metadata": {
      "needs_background": "light"
     },
     "output_type": "display_data"
    },
    {
     "data": {
      "image/png": "[encoded data removed]",
      "text/plain": [
       "<Figure size 432x288 with 1 Axes>"
      ]
     },
     "metadata": {
      "needs_background": "light"
     },
     "output_type": "display_data"
    },
    {
     "data": {
      "image/png": "[encoded data removed]",
      "text/plain": [
       "<Figure size 432x288 with 1 Axes>"
      ]
     },
     "metadata": {
      "needs_background": "light"
     },
     "output_type": "display_data"
    },
    {
     "data": {
      "image/png": "[encoded data removed]",
      "text/plain": [
       "<Figure size 432x288 with 1 Axes>"
      ]
     },
     "metadata": {
      "needs_background": "light"
     },
     "output_type": "display_data"
    }
   ],
   "source": [
    "plt.figure(figsize = (3,3))\n",
    "for category in dataset.select_dtypes(include = [\"O\"]):\n",
    "    dataset[category].value_counts().plot(kind = \"bar\")\n",
    "    plt.show()"
   ]
  },
  {
   "cell_type": "code",
   "execution_count": 38,
   "metadata": {},
   "outputs": [
    {
     "data": {
      "image/png": "[encoded data removed]",
      "text/plain": [
       "<Figure size 216x216 with 1 Axes>"
      ]
     },
     "metadata": {},
     "output_type": "display_data"
    },
    {
     "data": {
      "image/png": "[encoded data removed]",
      "text/plain": [
       "<Figure size 432x288 with 1 Axes>"
      ]
     },
     "metadata": {},
     "output_type": "display_data"
    },
    {
     "data": {
      "image/png": "[encoded data removed]",
      "text/plain": [
       "<Figure size 432x288 with 1 Axes>"
      ]
     },
     "metadata": {},
     "output_type": "display_data"
    },
    {
     "data": {
      "image/png": "[encoded data removed]",
      "text/plain": [
       "<Figure size 432x288 with 1 Axes>"
      ]
     },
     "metadata": {},
     "output_type": "display_data"
    },
    {
     "data": {
      "image/png": "[encoded data removed]",
      "text/plain": [
       "<Figure size 432x288 with 1 Axes>"
      ]
     },
     "metadata": {},
     "output_type": "display_data"
    },
    {
     "data": {
      "image/png": "[encoded data removed]",
      "text/plain": [
       "<Figure size 432x288 with 1 Axes>"
      ]
     },
     "metadata": {},
     "output_type": "display_data"
    }
   ],
   "source": [
    "plt.figure(figsize = (3,3))\n",
    "plt.tight_layout()\n",
    "for value in dataset.select_dtypes(include = [\"O\"] ):\n",
    "    dataset[value].value_counts().plot(kind='pie')\n",
    "    plt.show()"
   ]
  },
  {
   "cell_type": "code",
   "execution_count": null,
   "metadata": {},
   "outputs": [],
   "source": []
  }
 ],
 "metadata": {
  "kernelspec": {
   "display_name": "Python 3",
   "language": "python",
   "name": "python3"
  },
  "language_info": {
   "codemirror_mode": {
    "name": "ipython",
    "version": 3
   },
   "file_extension": ".py",
   "mimetype": "text/x-python",
   "name": "python",
   "nbconvert_exporter": "python",
   "pygments_lexer": "ipython3",
   "version": "3.8.5"
  }
 },
 "nbformat": 4,
 "nbformat_minor": 4
}
